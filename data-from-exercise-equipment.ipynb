{
 "cells": [
  {
   "cell_type": "code",
   "execution_count": 1,
   "id": "4f2fd135",
   "metadata": {
    "_cell_guid": "b1076dfc-b9ad-4769-8c92-a6c4dae69d19",
    "_uuid": "8f2839f25d086af736a60e9eeb907d3b93b6e0e5",
    "execution": {
     "iopub.execute_input": "2022-09-05T01:53:41.677997Z",
     "iopub.status.busy": "2022-09-05T01:53:41.677540Z",
     "iopub.status.idle": "2022-09-05T01:53:42.896947Z",
     "shell.execute_reply": "2022-09-05T01:53:42.895695Z"
    },
    "papermill": {
     "duration": 1.229414,
     "end_time": "2022-09-05T01:53:42.899793",
     "exception": false,
     "start_time": "2022-09-05T01:53:41.670379",
     "status": "completed"
    },
    "tags": []
   },
   "outputs": [
    {
     "name": "stdout",
     "output_type": "stream",
     "text": [
      "/kaggle/input/cardiogoodfitness/CardioGoodFitness.csv\n"
     ]
    }
   ],
   "source": [
    "# This Python 3 environment comes with many helpful analytics libraries installed\n",
    "# It is defined by the kaggle/python Docker image: https://github.com/kaggle/docker-python\n",
    "# For example, here's several helpful packages to load\n",
    "\n",
    "import numpy as np # linear algebra\n",
    "import pandas as pd # data processing, CSV file I/O (e.g. pd.read_csv)\n",
    "import seaborn as sns\n",
    "import matplotlib.pyplot as plt\n",
    "\n",
    "# Input data files are available in the read-only \"../input/\" directory\n",
    "# For example, running this (by clicking run or pressing Shift+Enter) will list all files under the input directory\n",
    "\n",
    "import os\n",
    "for dirname, _, filenames in os.walk('/kaggle/input'):\n",
    "    for filename in filenames:\n",
    "        print(os.path.join(dirname, filename))\n",
    "\n",
    "# You can write up to 20GB to the current directory (/kaggle/working/) that gets preserved as output when you create a version using \"Save & Run All\" \n",
    "# You can also write temporary files to /kaggle/temp/, but they won't be saved outside of the current session"
   ]
  },
  {
   "cell_type": "code",
   "execution_count": 2,
   "id": "d717d5e8",
   "metadata": {
    "execution": {
     "iopub.execute_input": "2022-09-05T01:53:42.910430Z",
     "iopub.status.busy": "2022-09-05T01:53:42.909999Z",
     "iopub.status.idle": "2022-09-05T01:53:42.952567Z",
     "shell.execute_reply": "2022-09-05T01:53:42.951360Z"
    },
    "papermill": {
     "duration": 0.050562,
     "end_time": "2022-09-05T01:53:42.955129",
     "exception": false,
     "start_time": "2022-09-05T01:53:42.904567",
     "status": "completed"
    },
    "tags": []
   },
   "outputs": [
    {
     "data": {
      "text/html": [
       "<div>\n",
       "<style scoped>\n",
       "    .dataframe tbody tr th:only-of-type {\n",
       "        vertical-align: middle;\n",
       "    }\n",
       "\n",
       "    .dataframe tbody tr th {\n",
       "        vertical-align: top;\n",
       "    }\n",
       "\n",
       "    .dataframe thead th {\n",
       "        text-align: right;\n",
       "    }\n",
       "</style>\n",
       "<table border=\"1\" class=\"dataframe\">\n",
       "  <thead>\n",
       "    <tr style=\"text-align: right;\">\n",
       "      <th></th>\n",
       "      <th>Product</th>\n",
       "      <th>Age</th>\n",
       "      <th>Gender</th>\n",
       "      <th>Education</th>\n",
       "      <th>MaritalStatus</th>\n",
       "      <th>Usage</th>\n",
       "      <th>Fitness</th>\n",
       "      <th>Income</th>\n",
       "      <th>Miles</th>\n",
       "    </tr>\n",
       "  </thead>\n",
       "  <tbody>\n",
       "    <tr>\n",
       "      <th>0</th>\n",
       "      <td>TM195</td>\n",
       "      <td>18</td>\n",
       "      <td>Male</td>\n",
       "      <td>14</td>\n",
       "      <td>Single</td>\n",
       "      <td>3</td>\n",
       "      <td>4</td>\n",
       "      <td>29562</td>\n",
       "      <td>112</td>\n",
       "    </tr>\n",
       "    <tr>\n",
       "      <th>1</th>\n",
       "      <td>TM195</td>\n",
       "      <td>19</td>\n",
       "      <td>Male</td>\n",
       "      <td>15</td>\n",
       "      <td>Single</td>\n",
       "      <td>2</td>\n",
       "      <td>3</td>\n",
       "      <td>31836</td>\n",
       "      <td>75</td>\n",
       "    </tr>\n",
       "    <tr>\n",
       "      <th>2</th>\n",
       "      <td>TM195</td>\n",
       "      <td>19</td>\n",
       "      <td>Female</td>\n",
       "      <td>14</td>\n",
       "      <td>Partnered</td>\n",
       "      <td>4</td>\n",
       "      <td>3</td>\n",
       "      <td>30699</td>\n",
       "      <td>66</td>\n",
       "    </tr>\n",
       "    <tr>\n",
       "      <th>3</th>\n",
       "      <td>TM195</td>\n",
       "      <td>19</td>\n",
       "      <td>Male</td>\n",
       "      <td>12</td>\n",
       "      <td>Single</td>\n",
       "      <td>3</td>\n",
       "      <td>3</td>\n",
       "      <td>32973</td>\n",
       "      <td>85</td>\n",
       "    </tr>\n",
       "    <tr>\n",
       "      <th>4</th>\n",
       "      <td>TM195</td>\n",
       "      <td>20</td>\n",
       "      <td>Male</td>\n",
       "      <td>13</td>\n",
       "      <td>Partnered</td>\n",
       "      <td>4</td>\n",
       "      <td>2</td>\n",
       "      <td>35247</td>\n",
       "      <td>47</td>\n",
       "    </tr>\n",
       "    <tr>\n",
       "      <th>...</th>\n",
       "      <td>...</td>\n",
       "      <td>...</td>\n",
       "      <td>...</td>\n",
       "      <td>...</td>\n",
       "      <td>...</td>\n",
       "      <td>...</td>\n",
       "      <td>...</td>\n",
       "      <td>...</td>\n",
       "      <td>...</td>\n",
       "    </tr>\n",
       "    <tr>\n",
       "      <th>175</th>\n",
       "      <td>TM798</td>\n",
       "      <td>40</td>\n",
       "      <td>Male</td>\n",
       "      <td>21</td>\n",
       "      <td>Single</td>\n",
       "      <td>6</td>\n",
       "      <td>5</td>\n",
       "      <td>83416</td>\n",
       "      <td>200</td>\n",
       "    </tr>\n",
       "    <tr>\n",
       "      <th>176</th>\n",
       "      <td>TM798</td>\n",
       "      <td>42</td>\n",
       "      <td>Male</td>\n",
       "      <td>18</td>\n",
       "      <td>Single</td>\n",
       "      <td>5</td>\n",
       "      <td>4</td>\n",
       "      <td>89641</td>\n",
       "      <td>200</td>\n",
       "    </tr>\n",
       "    <tr>\n",
       "      <th>177</th>\n",
       "      <td>TM798</td>\n",
       "      <td>45</td>\n",
       "      <td>Male</td>\n",
       "      <td>16</td>\n",
       "      <td>Single</td>\n",
       "      <td>5</td>\n",
       "      <td>5</td>\n",
       "      <td>90886</td>\n",
       "      <td>160</td>\n",
       "    </tr>\n",
       "    <tr>\n",
       "      <th>178</th>\n",
       "      <td>TM798</td>\n",
       "      <td>47</td>\n",
       "      <td>Male</td>\n",
       "      <td>18</td>\n",
       "      <td>Partnered</td>\n",
       "      <td>4</td>\n",
       "      <td>5</td>\n",
       "      <td>104581</td>\n",
       "      <td>120</td>\n",
       "    </tr>\n",
       "    <tr>\n",
       "      <th>179</th>\n",
       "      <td>TM798</td>\n",
       "      <td>48</td>\n",
       "      <td>Male</td>\n",
       "      <td>18</td>\n",
       "      <td>Partnered</td>\n",
       "      <td>4</td>\n",
       "      <td>5</td>\n",
       "      <td>95508</td>\n",
       "      <td>180</td>\n",
       "    </tr>\n",
       "  </tbody>\n",
       "</table>\n",
       "<p>180 rows × 9 columns</p>\n",
       "</div>"
      ],
      "text/plain": [
       "    Product  Age  Gender  Education MaritalStatus  Usage  Fitness  Income  \\\n",
       "0     TM195   18    Male         14        Single      3        4   29562   \n",
       "1     TM195   19    Male         15        Single      2        3   31836   \n",
       "2     TM195   19  Female         14     Partnered      4        3   30699   \n",
       "3     TM195   19    Male         12        Single      3        3   32973   \n",
       "4     TM195   20    Male         13     Partnered      4        2   35247   \n",
       "..      ...  ...     ...        ...           ...    ...      ...     ...   \n",
       "175   TM798   40    Male         21        Single      6        5   83416   \n",
       "176   TM798   42    Male         18        Single      5        4   89641   \n",
       "177   TM798   45    Male         16        Single      5        5   90886   \n",
       "178   TM798   47    Male         18     Partnered      4        5  104581   \n",
       "179   TM798   48    Male         18     Partnered      4        5   95508   \n",
       "\n",
       "     Miles  \n",
       "0      112  \n",
       "1       75  \n",
       "2       66  \n",
       "3       85  \n",
       "4       47  \n",
       "..     ...  \n",
       "175    200  \n",
       "176    200  \n",
       "177    160  \n",
       "178    120  \n",
       "179    180  \n",
       "\n",
       "[180 rows x 9 columns]"
      ]
     },
     "execution_count": 2,
     "metadata": {},
     "output_type": "execute_result"
    }
   ],
   "source": [
    "CardioDf = pd.read_csv('/kaggle/input/cardiogoodfitness/CardioGoodFitness.csv')\n",
    "CardioDf"
   ]
  },
  {
   "cell_type": "code",
   "execution_count": 3,
   "id": "4370e138",
   "metadata": {
    "execution": {
     "iopub.execute_input": "2022-09-05T01:53:42.966056Z",
     "iopub.status.busy": "2022-09-05T01:53:42.965644Z",
     "iopub.status.idle": "2022-09-05T01:53:42.975305Z",
     "shell.execute_reply": "2022-09-05T01:53:42.974542Z"
    },
    "papermill": {
     "duration": 0.018208,
     "end_time": "2022-09-05T01:53:42.978056",
     "exception": false,
     "start_time": "2022-09-05T01:53:42.959848",
     "status": "completed"
    },
    "tags": []
   },
   "outputs": [
    {
     "name": "stdout",
     "output_type": "stream",
     "text": [
      "180\n"
     ]
    },
    {
     "data": {
      "text/plain": [
       "Product          0\n",
       "Age              0\n",
       "Gender           0\n",
       "Education        0\n",
       "MaritalStatus    0\n",
       "Usage            0\n",
       "Fitness          0\n",
       "Income           0\n",
       "Miles            0\n",
       "dtype: int64"
      ]
     },
     "execution_count": 3,
     "metadata": {},
     "output_type": "execute_result"
    }
   ],
   "source": [
    "print(len(CardioDf.index))\n",
    "CardioDf.isna().sum()\n",
    "#No NA values, data is relively clean. "
   ]
  },
  {
   "cell_type": "code",
   "execution_count": 4,
   "id": "df79a914",
   "metadata": {
    "execution": {
     "iopub.execute_input": "2022-09-05T01:53:42.989573Z",
     "iopub.status.busy": "2022-09-05T01:53:42.988739Z",
     "iopub.status.idle": "2022-09-05T01:53:43.004514Z",
     "shell.execute_reply": "2022-09-05T01:53:43.003591Z"
    },
    "papermill": {
     "duration": 0.023917,
     "end_time": "2022-09-05T01:53:43.006686",
     "exception": false,
     "start_time": "2022-09-05T01:53:42.982769",
     "status": "completed"
    },
    "tags": []
   },
   "outputs": [
    {
     "data": {
      "text/plain": [
       "Product\n",
       "TM195    80\n",
       "TM498    60\n",
       "TM798    40\n",
       "Name: Product, dtype: int64"
      ]
     },
     "execution_count": 4,
     "metadata": {},
     "output_type": "execute_result"
    }
   ],
   "source": [
    "#Number of each product being used\n",
    "CardioDf.groupby(['Product'])['Product'].count()"
   ]
  },
  {
   "cell_type": "code",
   "execution_count": 5,
   "id": "096c34fd",
   "metadata": {
    "execution": {
     "iopub.execute_input": "2022-09-05T01:53:43.018688Z",
     "iopub.status.busy": "2022-09-05T01:53:43.018035Z",
     "iopub.status.idle": "2022-09-05T01:53:43.274392Z",
     "shell.execute_reply": "2022-09-05T01:53:43.272908Z"
    },
    "papermill": {
     "duration": 0.265687,
     "end_time": "2022-09-05T01:53:43.277290",
     "exception": false,
     "start_time": "2022-09-05T01:53:43.011603",
     "status": "completed"
    },
    "tags": []
   },
   "outputs": [
    {
     "data": {
      "text/plain": [
       "<AxesSubplot:xlabel='Gender', ylabel='Count'>"
      ]
     },
     "execution_count": 5,
     "metadata": {},
     "output_type": "execute_result"
    },
    {
     "data": {
      "image/png": "[encoded data removed]",
      "text/plain": [
       "<Figure size 432x288 with 1 Axes>"
      ]
     },
     "metadata": {
      "needs_background": "light"
     },
     "output_type": "display_data"
    }
   ],
   "source": [
    "#Male vs Female Counts\n",
    "CardioDf.groupby(['Gender'])['Gender'].count()\n",
    "sns.histplot(data=CardioDf, x=\"Gender\", hue = 'Gender')"
   ]
  },
  {
   "cell_type": "code",
   "execution_count": 6,
   "id": "80a2565b",
   "metadata": {
    "execution": {
     "iopub.execute_input": "2022-09-05T01:53:43.289664Z",
     "iopub.status.busy": "2022-09-05T01:53:43.289232Z",
     "iopub.status.idle": "2022-09-05T01:53:43.564256Z",
     "shell.execute_reply": "2022-09-05T01:53:43.563163Z"
    },
    "papermill": {
     "duration": 0.284307,
     "end_time": "2022-09-05T01:53:43.566909",
     "exception": false,
     "start_time": "2022-09-05T01:53:43.282602",
     "status": "completed"
    },
    "tags": []
   },
   "outputs": [
    {
     "data": {
      "text/plain": [
       "<AxesSubplot:xlabel='Age', ylabel='Miles'>"
      ]
     },
     "execution_count": 6,
     "metadata": {},
     "output_type": "execute_result"
    },
    {
     "data": {
      "image/png": "[encoded data removed]",
      "text/plain": [
       "<Figure size 1008x720 with 1 Axes>"
      ]
     },
     "metadata": {
      "needs_background": "light"
     },
     "output_type": "display_data"
    }
   ],
   "source": [
    "#Age and Miles plot\n",
    "plt.figure(figsize=(14,10))\n",
    "sns.scatterplot(data = CardioDf, x = 'Age', y = 'Miles', hue = 'Age',palette = 'deep', legend = False, s = 200)\n"
   ]
  },
  {
   "cell_type": "code",
   "execution_count": 7,
   "id": "8b78ba1f",
   "metadata": {
    "execution": {
     "iopub.execute_input": "2022-09-05T01:53:43.581872Z",
     "iopub.status.busy": "2022-09-05T01:53:43.581476Z",
     "iopub.status.idle": "2022-09-05T01:53:44.026454Z",
     "shell.execute_reply": "2022-09-05T01:53:44.025138Z"
    },
    "papermill": {
     "duration": 0.455408,
     "end_time": "2022-09-05T01:53:44.028937",
     "exception": false,
     "start_time": "2022-09-05T01:53:43.573529",
     "status": "completed"
    },
    "tags": []
   },
   "outputs": [
    {
     "data": {
      "image/png": "[encoded data removed]",
      "text/plain": [
       "<Figure size 1440x720 with 1 Axes>"
      ]
     },
     "metadata": {
      "needs_background": "light"
     },
     "output_type": "display_data"
    }
   ],
   "source": [
    "#Average number of miles per age\n",
    "\n",
    "AgeMiles= CardioDf.groupby(['Age'])['Miles'].mean()\n",
    "AgeMiles = AgeMiles.to_frame().reset_index()\n",
    "\n",
    "plt.figure(figsize=(20,10))\n",
    "sns.barplot(data=AgeMiles, x=\"Age\", y = 'Miles')\n",
    "plt.show()\n",
    "#df.hist(AgeMiles)"
   ]
  },
  {
   "cell_type": "code",
   "execution_count": 8,
   "id": "546c8f96",
   "metadata": {
    "execution": {
     "iopub.execute_input": "2022-09-05T01:53:44.044526Z",
     "iopub.status.busy": "2022-09-05T01:53:44.044102Z",
     "iopub.status.idle": "2022-09-05T01:53:44.455618Z",
     "shell.execute_reply": "2022-09-05T01:53:44.454677Z"
    },
    "papermill": {
     "duration": 0.422447,
     "end_time": "2022-09-05T01:53:44.458161",
     "exception": false,
     "start_time": "2022-09-05T01:53:44.035714",
     "status": "completed"
    },
    "tags": []
   },
   "outputs": [
    {
     "data": {
      "text/plain": [
       "0.7857017433982372"
      ]
     },
     "execution_count": 8,
     "metadata": {},
     "output_type": "execute_result"
    },
    {
     "data": {
      "image/png": "[encoded data removed]",
      "text/plain": [
       "<Figure size 1440x720 with 1 Axes>"
      ]
     },
     "metadata": {
      "needs_background": "light"
     },
     "output_type": "display_data"
    }
   ],
   "source": [
    "#Fitness level vs reported miles\n",
    "plt.figure(figsize=(20,10))\n",
    "sns.scatterplot(data = CardioDf, y = CardioDf['Miles'], x = CardioDf['Fitness'],hue = 'Fitness', s = 150)\n",
    "\n",
    "#correlation between higher miles and more fitness\n",
    "CardioDf['Miles'].corr(CardioDf['Fitness'])\n",
    "#Strong relationship between reported fitness level and reported miles\n",
    "#0.7857017433982372\n",
    "\n"
   ]
  },
  {
   "cell_type": "code",
   "execution_count": 9,
   "id": "74624499",
   "metadata": {
    "execution": {
     "iopub.execute_input": "2022-09-05T01:53:44.477301Z",
     "iopub.status.busy": "2022-09-05T01:53:44.475981Z",
     "iopub.status.idle": "2022-09-05T01:53:44.491790Z",
     "shell.execute_reply": "2022-09-05T01:53:44.490448Z"
    },
    "papermill": {
     "duration": 0.027608,
     "end_time": "2022-09-05T01:53:44.494223",
     "exception": false,
     "start_time": "2022-09-05T01:53:44.466615",
     "status": "completed"
    },
    "tags": []
   },
   "outputs": [
    {
     "data": {
      "text/html": [
       "<div>\n",
       "<style scoped>\n",
       "    .dataframe tbody tr th:only-of-type {\n",
       "        vertical-align: middle;\n",
       "    }\n",
       "\n",
       "    .dataframe tbody tr th {\n",
       "        vertical-align: top;\n",
       "    }\n",
       "\n",
       "    .dataframe thead th {\n",
       "        text-align: right;\n",
       "    }\n",
       "</style>\n",
       "<table border=\"1\" class=\"dataframe\">\n",
       "  <thead>\n",
       "    <tr style=\"text-align: right;\">\n",
       "      <th></th>\n",
       "      <th>Age</th>\n",
       "      <th>Education</th>\n",
       "      <th>Usage</th>\n",
       "      <th>Fitness</th>\n",
       "      <th>Income</th>\n",
       "      <th>Miles</th>\n",
       "    </tr>\n",
       "  </thead>\n",
       "  <tbody>\n",
       "    <tr>\n",
       "      <th>Age</th>\n",
       "      <td>1.000000</td>\n",
       "      <td>0.280496</td>\n",
       "      <td>0.015064</td>\n",
       "      <td>0.061105</td>\n",
       "      <td>0.513414</td>\n",
       "      <td>0.036618</td>\n",
       "    </tr>\n",
       "    <tr>\n",
       "      <th>Education</th>\n",
       "      <td>0.280496</td>\n",
       "      <td>1.000000</td>\n",
       "      <td>0.395155</td>\n",
       "      <td>0.410581</td>\n",
       "      <td>0.625827</td>\n",
       "      <td>0.307284</td>\n",
       "    </tr>\n",
       "    <tr>\n",
       "      <th>Usage</th>\n",
       "      <td>0.015064</td>\n",
       "      <td>0.395155</td>\n",
       "      <td>1.000000</td>\n",
       "      <td>0.668606</td>\n",
       "      <td>0.519537</td>\n",
       "      <td>0.759130</td>\n",
       "    </tr>\n",
       "    <tr>\n",
       "      <th>Fitness</th>\n",
       "      <td>0.061105</td>\n",
       "      <td>0.410581</td>\n",
       "      <td>0.668606</td>\n",
       "      <td>1.000000</td>\n",
       "      <td>0.535005</td>\n",
       "      <td>0.785702</td>\n",
       "    </tr>\n",
       "    <tr>\n",
       "      <th>Income</th>\n",
       "      <td>0.513414</td>\n",
       "      <td>0.625827</td>\n",
       "      <td>0.519537</td>\n",
       "      <td>0.535005</td>\n",
       "      <td>1.000000</td>\n",
       "      <td>0.543473</td>\n",
       "    </tr>\n",
       "    <tr>\n",
       "      <th>Miles</th>\n",
       "      <td>0.036618</td>\n",
       "      <td>0.307284</td>\n",
       "      <td>0.759130</td>\n",
       "      <td>0.785702</td>\n",
       "      <td>0.543473</td>\n",
       "      <td>1.000000</td>\n",
       "    </tr>\n",
       "  </tbody>\n",
       "</table>\n",
       "</div>"
      ],
      "text/plain": [
       "                Age  Education     Usage   Fitness    Income     Miles\n",
       "Age        1.000000   0.280496  0.015064  0.061105  0.513414  0.036618\n",
       "Education  0.280496   1.000000  0.395155  0.410581  0.625827  0.307284\n",
       "Usage      0.015064   0.395155  1.000000  0.668606  0.519537  0.759130\n",
       "Fitness    0.061105   0.410581  0.668606  1.000000  0.535005  0.785702\n",
       "Income     0.513414   0.625827  0.519537  0.535005  1.000000  0.543473\n",
       "Miles      0.036618   0.307284  0.759130  0.785702  0.543473  1.000000"
      ]
     },
     "execution_count": 9,
     "metadata": {},
     "output_type": "execute_result"
    }
   ],
   "source": [
    "corr = CardioDf.corr()\n",
    "corr\n",
    "#Takeaway\n",
    "    #Low correlation between age and usage \n",
    "    #Low correlation between age and miles \n",
    "    #Moderate correlation between Education and income \n",
    "    #Moderate correlation between fitness and usage\n",
    "    #Moderate correlation between income and fitness"
   ]
  },
  {
   "cell_type": "code",
   "execution_count": 10,
   "id": "27471406",
   "metadata": {
    "execution": {
     "iopub.execute_input": "2022-09-05T01:53:44.512210Z",
     "iopub.status.busy": "2022-09-05T01:53:44.511129Z",
     "iopub.status.idle": "2022-09-05T01:53:44.878182Z",
     "shell.execute_reply": "2022-09-05T01:53:44.876997Z"
    },
    "papermill": {
     "duration": 0.379206,
     "end_time": "2022-09-05T01:53:44.881239",
     "exception": false,
     "start_time": "2022-09-05T01:53:44.502033",
     "status": "completed"
    },
    "tags": []
   },
   "outputs": [
    {
     "data": {
      "text/plain": [
       "<AxesSubplot:>"
      ]
     },
     "execution_count": 10,
     "metadata": {},
     "output_type": "execute_result"
    },
    {
     "data": {
      "image/png": "[encoded data removed]",
      "text/plain": [
       "<Figure size 432x288 with 2 Axes>"
      ]
     },
     "metadata": {
      "needs_background": "light"
     },
     "output_type": "display_data"
    }
   ],
   "source": [
    "sns.heatmap(corr, annot=True, linewidths=.1)"
   ]
  },
  {
   "cell_type": "code",
   "execution_count": 11,
   "id": "64623b65",
   "metadata": {
    "execution": {
     "iopub.execute_input": "2022-09-05T01:53:44.900403Z",
     "iopub.status.busy": "2022-09-05T01:53:44.899854Z",
     "iopub.status.idle": "2022-09-05T01:53:44.915139Z",
     "shell.execute_reply": "2022-09-05T01:53:44.913973Z"
    },
    "papermill": {
     "duration": 0.027859,
     "end_time": "2022-09-05T01:53:44.917685",
     "exception": false,
     "start_time": "2022-09-05T01:53:44.889826",
     "status": "completed"
    },
    "tags": []
   },
   "outputs": [
    {
     "data": {
      "text/plain": [
       "0.5948832140406117"
      ]
     },
     "execution_count": 11,
     "metadata": {},
     "output_type": "execute_result"
    }
   ],
   "source": [
    "#Does which product used depend on fitness level \n",
    "CardioDf['Product'].unique()\n",
    "newMap = {'TM195': 0, 'TM498': 1, 'TM798': 2}\n",
    "CardioDfProduct = CardioDf.applymap(lambda s: newMap.get(s) if s in newMap else s)\n",
    "CardioDfProduct['Product'].corr(CardioDfProduct['Fitness'])\n",
    "#.59\n",
    "#Moderate correlation between the type of product you use and the amount of fitness you have \n"
   ]
  },
  {
   "cell_type": "code",
   "execution_count": 12,
   "id": "bf6d5fd0",
   "metadata": {
    "execution": {
     "iopub.execute_input": "2022-09-05T01:53:44.937918Z",
     "iopub.status.busy": "2022-09-05T01:53:44.936842Z",
     "iopub.status.idle": "2022-09-05T01:53:44.953333Z",
     "shell.execute_reply": "2022-09-05T01:53:44.952125Z"
    },
    "papermill": {
     "duration": 0.029026,
     "end_time": "2022-09-05T01:53:44.955686",
     "exception": false,
     "start_time": "2022-09-05T01:53:44.926660",
     "status": "completed"
    },
    "tags": []
   },
   "outputs": [
    {
     "data": {
      "text/html": [
       "<div>\n",
       "<style scoped>\n",
       "    .dataframe tbody tr th:only-of-type {\n",
       "        vertical-align: middle;\n",
       "    }\n",
       "\n",
       "    .dataframe tbody tr th {\n",
       "        vertical-align: top;\n",
       "    }\n",
       "\n",
       "    .dataframe thead th {\n",
       "        text-align: right;\n",
       "    }\n",
       "</style>\n",
       "<table border=\"1\" class=\"dataframe\">\n",
       "  <thead>\n",
       "    <tr style=\"text-align: right;\">\n",
       "      <th></th>\n",
       "      <th>Age</th>\n",
       "      <th>Education</th>\n",
       "      <th>Usage</th>\n",
       "      <th>Fitness</th>\n",
       "      <th>Income</th>\n",
       "      <th>Miles</th>\n",
       "    </tr>\n",
       "    <tr>\n",
       "      <th>Product</th>\n",
       "      <th></th>\n",
       "      <th></th>\n",
       "      <th></th>\n",
       "      <th></th>\n",
       "      <th></th>\n",
       "      <th></th>\n",
       "    </tr>\n",
       "  </thead>\n",
       "  <tbody>\n",
       "    <tr>\n",
       "      <th>0</th>\n",
       "      <td>28.55</td>\n",
       "      <td>15.037500</td>\n",
       "      <td>3.087500</td>\n",
       "      <td>2.9625</td>\n",
       "      <td>46418.025</td>\n",
       "      <td>82.787500</td>\n",
       "    </tr>\n",
       "    <tr>\n",
       "      <th>1</th>\n",
       "      <td>28.90</td>\n",
       "      <td>15.116667</td>\n",
       "      <td>3.066667</td>\n",
       "      <td>2.9000</td>\n",
       "      <td>48973.650</td>\n",
       "      <td>87.933333</td>\n",
       "    </tr>\n",
       "    <tr>\n",
       "      <th>2</th>\n",
       "      <td>29.10</td>\n",
       "      <td>17.325000</td>\n",
       "      <td>4.775000</td>\n",
       "      <td>4.6250</td>\n",
       "      <td>75441.575</td>\n",
       "      <td>166.900000</td>\n",
       "    </tr>\n",
       "  </tbody>\n",
       "</table>\n",
       "</div>"
      ],
      "text/plain": [
       "           Age  Education     Usage  Fitness     Income       Miles\n",
       "Product                                                            \n",
       "0        28.55  15.037500  3.087500   2.9625  46418.025   82.787500\n",
       "1        28.90  15.116667  3.066667   2.9000  48973.650   87.933333\n",
       "2        29.10  17.325000  4.775000   4.6250  75441.575  166.900000"
      ]
     },
     "execution_count": 12,
     "metadata": {},
     "output_type": "execute_result"
    }
   ],
   "source": [
    "#Which product gives the best fitness on average\n",
    "#average fitness level each product\n",
    "\n",
    "CardioTM195 = CardioDfProduct.groupby(['Product']).mean()\n",
    "CardioTM195\n",
    "#Takeaway\n",
    "    #Fitness level is best with the TM798\n",
    "    #More miles on the 166.9\n",
    "    #Higher income for the TM798, we may be able to infer from this that the TM798 is the higher end machie\n",
    "    #for customers who are more serious\n",
    "    #More usage with the TM798"
   ]
  },
  {
   "cell_type": "code",
   "execution_count": 13,
   "id": "10da5722",
   "metadata": {
    "execution": {
     "iopub.execute_input": "2022-09-05T01:53:44.974755Z",
     "iopub.status.busy": "2022-09-05T01:53:44.974107Z",
     "iopub.status.idle": "2022-09-05T01:53:44.987280Z",
     "shell.execute_reply": "2022-09-05T01:53:44.986101Z"
    },
    "papermill": {
     "duration": 0.025507,
     "end_time": "2022-09-05T01:53:44.989626",
     "exception": false,
     "start_time": "2022-09-05T01:53:44.964119",
     "status": "completed"
    },
    "tags": []
   },
   "outputs": [
    {
     "data": {
      "text/plain": [
       "-0.05075071111312666"
      ]
     },
     "execution_count": 13,
     "metadata": {},
     "output_type": "execute_result"
    }
   ],
   "source": [
    "#if a person is single or not, does that impact their fitness level\n",
    "newMap = {'Single': 0, 'Partnered': 1}\n",
    "CardioDfMar = CardioDf.applymap(lambda s: newMap.get(s) if s in newMap else s)\n",
    "CardioDfMar['MaritalStatus'].corr(CardioDfMar['Fitness'])\n",
    "#Weak relation, maritial status doesn't effect fitness. "
   ]
  },
  {
   "cell_type": "code",
   "execution_count": null,
   "id": "bfc517e0",
   "metadata": {
    "papermill": {
     "duration": 0.008173,
     "end_time": "2022-09-05T01:53:45.006332",
     "exception": false,
     "start_time": "2022-09-05T01:53:44.998159",
     "status": "completed"
    },
    "tags": []
   },
   "outputs": [],
   "source": []
  }
 ],
 "metadata": {
  "kernelspec": {
   "display_name": "Python 3",
   "language": "python",
   "name": "python3"
  },
  "language_info": {
   "codemirror_mode": {
    "name": "ipython",
    "version": 3
   },
   "file_extension": ".py",
   "mimetype": "text/x-python",
   "name": "python",
   "nbconvert_exporter": "python",
   "pygments_lexer": "ipython3",
   "version": "3.7.12"
  },
  "papermill": {
   "default_parameters": {},
   "duration": 13.954841,
   "end_time": "2022-09-05T01:53:45.736763",
   "environment_variables": {},
   "exception": null,
   "input_path": "__notebook__.ipynb",
   "output_path": "__notebook__.ipynb",
   "parameters": {},
   "start_time": "2022-09-05T01:53:31.781922",
   "version": "2.3.4"
  }
 },
 "nbformat": 4,
 "nbformat_minor": 5
}
